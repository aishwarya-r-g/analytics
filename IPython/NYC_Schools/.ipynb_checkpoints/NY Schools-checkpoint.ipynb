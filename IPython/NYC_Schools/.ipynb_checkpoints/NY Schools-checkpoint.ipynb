{
 "cells": [
  {
   "cell_type": "code",
   "execution_count": 2,
   "metadata": {
    "collapsed": false
   },
   "outputs": [],
   "source": [
    "import pandas as pd\n",
    "import numpy as np\n",
    "# Load the data\n",
    "dsProgReports = pd.read_csv('School_Progress_Reports_-_All_Schools_-_2009-10.csv')\n",
    "dsDistrict = pd.read_csv('School_District_Breakdowns.csv')\n",
    "dsClassSize = pd.read_csv('2009-10_Class_Size_-_School-level_Detail.csv')\n",
    "dsAttendEnroll = pd.read_csv('School_Attendance_and_Enrollment_Statistics_by_District__2010-11_.csv')[:-2] #last two rows are bad\n",
    "dsSATs = pd.read_csv('SAT__College_Board__2010_School_Level_Results.csv') # Dependent"
   ]
  },
  {
   "cell_type": "code",
   "execution_count": 3,
   "metadata": {
    "collapsed": false
   },
   "outputs": [
    {
     "name": "stdout",
     "output_type": "stream",
     "text": [
      "<class 'pandas.core.frame.DataFrame'>\n",
      "Int64Index: 460 entries, 0 to 459\n",
      "Data columns (total 6 columns):\n",
      "DBN                      460 non-null object\n",
      "School Name              460 non-null object\n",
      "Number of Test Takers    460 non-null object\n",
      "Critical Reading Mean    460 non-null object\n",
      "Mathematics Mean         460 non-null object\n",
      "Writing Mean             460 non-null object\n",
      "dtypes: object(6)\n",
      "memory usage: 25.2+ KB\n"
     ]
    }
   ],
   "source": [
    "dsSATs.info()"
   ]
  },
  {
   "cell_type": "code",
   "execution_count": 4,
   "metadata": {
    "collapsed": false
   },
   "outputs": [
    {
     "data": {
      "text/html": [
       "<div>\n",
       "<table border=\"1\" class=\"dataframe\">\n",
       "  <thead>\n",
       "    <tr style=\"text-align: right;\">\n",
       "      <th></th>\n",
       "      <th>0</th>\n",
       "      <th>1</th>\n",
       "      <th>2</th>\n",
       "      <th>3</th>\n",
       "      <th>4</th>\n",
       "    </tr>\n",
       "  </thead>\n",
       "  <tbody>\n",
       "    <tr>\n",
       "      <th>DBN</th>\n",
       "      <td>01M015</td>\n",
       "      <td>01M019</td>\n",
       "      <td>01M020</td>\n",
       "      <td>01M034</td>\n",
       "      <td>01M063</td>\n",
       "    </tr>\n",
       "    <tr>\n",
       "      <th>DBN</th>\n",
       "      <td>01M292</td>\n",
       "      <td>01M448</td>\n",
       "      <td>01M450</td>\n",
       "      <td>01M458</td>\n",
       "      <td>01M509</td>\n",
       "    </tr>\n",
       "    <tr>\n",
       "      <th>SCHOOL CODE</th>\n",
       "      <td>M015</td>\n",
       "      <td>M015</td>\n",
       "      <td>M015</td>\n",
       "      <td>M015</td>\n",
       "      <td>M015</td>\n",
       "    </tr>\n",
       "  </tbody>\n",
       "</table>\n",
       "</div>"
      ],
      "text/plain": [
       "                  0       1       2       3       4\n",
       "DBN          01M015  01M019  01M020  01M034  01M063\n",
       "DBN          01M292  01M448  01M450  01M458  01M509\n",
       "SCHOOL CODE    M015    M015    M015    M015    M015"
      ]
     },
     "execution_count": 4,
     "metadata": {},
     "output_type": "execute_result"
    }
   ],
   "source": [
    "pd.DataFrame(data=[dsProgReports['DBN'].take(range(5)), dsSATs['DBN'].take(range(5)), \n",
    "                   dsClassSize['SCHOOL CODE'].take(range(5))])\n"
   ]
  },
  {
   "cell_type": "code",
   "execution_count": 5,
   "metadata": {
    "collapsed": false
   },
   "outputs": [
    {
     "data": {
      "text/html": [
       "<div>\n",
       "<table border=\"1\" class=\"dataframe\">\n",
       "  <thead>\n",
       "    <tr style=\"text-align: right;\">\n",
       "      <th></th>\n",
       "      <th>0</th>\n",
       "      <th>1</th>\n",
       "      <th>2</th>\n",
       "      <th>3</th>\n",
       "      <th>4</th>\n",
       "    </tr>\n",
       "  </thead>\n",
       "  <tbody>\n",
       "    <tr>\n",
       "      <th>DBN</th>\n",
       "      <td>M015</td>\n",
       "      <td>M019</td>\n",
       "      <td>M020</td>\n",
       "      <td>M034</td>\n",
       "      <td>M063</td>\n",
       "    </tr>\n",
       "    <tr>\n",
       "      <th>DBN</th>\n",
       "      <td>M292</td>\n",
       "      <td>M448</td>\n",
       "      <td>M450</td>\n",
       "      <td>M458</td>\n",
       "      <td>M509</td>\n",
       "    </tr>\n",
       "    <tr>\n",
       "      <th>SCHOOL CODE</th>\n",
       "      <td>M015</td>\n",
       "      <td>M015</td>\n",
       "      <td>M015</td>\n",
       "      <td>M015</td>\n",
       "      <td>M015</td>\n",
       "    </tr>\n",
       "  </tbody>\n",
       "</table>\n",
       "</div>"
      ],
      "text/plain": [
       "                0     1     2     3     4\n",
       "DBN          M015  M019  M020  M034  M063\n",
       "DBN          M292  M448  M450  M458  M509\n",
       "SCHOOL CODE  M015  M015  M015  M015  M015"
      ]
     },
     "execution_count": 5,
     "metadata": {},
     "output_type": "execute_result"
    }
   ],
   "source": [
    "dsProgReports['DBN'] = dsProgReports['DBN'].apply(lambda x:x[2:])\n",
    "\n",
    "dsSATs['DBN'] = dsSATs['DBN'].apply(lambda x:x[2:])\n",
    "\n",
    "pd.DataFrame(data=[dsProgReports['DBN'].take(range(5)), dsSATs['DBN'].take(range(5)), \n",
    "                   dsClassSize['SCHOOL CODE'].take(range(5))])\n",
    "\n"
   ]
  },
  {
   "cell_type": "code",
   "execution_count": 6,
   "metadata": {
    "collapsed": false
   },
   "outputs": [
    {
     "data": {
      "text/html": [
       "<div>\n",
       "<table border=\"1\" class=\"dataframe\">\n",
       "  <thead>\n",
       "    <tr style=\"text-align: right;\">\n",
       "      <th></th>\n",
       "      <th>0</th>\n",
       "      <th>1</th>\n",
       "      <th>2</th>\n",
       "    </tr>\n",
       "  </thead>\n",
       "  <tbody>\n",
       "    <tr>\n",
       "      <th>DISTRICT</th>\n",
       "      <td>1</td>\n",
       "      <td>1</td>\n",
       "      <td>1</td>\n",
       "    </tr>\n",
       "    <tr>\n",
       "      <th>JURISDICTION NAME</th>\n",
       "      <td>CSD 01 Manhattan</td>\n",
       "      <td>CSD 02 Manhattan</td>\n",
       "      <td>CSD 03 Manhattan</td>\n",
       "    </tr>\n",
       "    <tr>\n",
       "      <th>District</th>\n",
       "      <td>DISTRICT 01</td>\n",
       "      <td>DISTRICT 02</td>\n",
       "      <td>DISTRICT 03</td>\n",
       "    </tr>\n",
       "  </tbody>\n",
       "</table>\n",
       "</div>"
      ],
      "text/plain": [
       "                                  0                 1                 2\n",
       "DISTRICT                          1                 1                 1\n",
       "JURISDICTION NAME  CSD 01 Manhattan  CSD 02 Manhattan  CSD 03 Manhattan\n",
       "District                DISTRICT 01       DISTRICT 02       DISTRICT 03"
      ]
     },
     "execution_count": 6,
     "metadata": {},
     "output_type": "execute_result"
    }
   ],
   "source": [
    "pd.DataFrame(data=[dsProgReports['DISTRICT'][:3], dsDistrict['JURISDICTION NAME'][:3], \n",
    "                   dsAttendEnroll['District'][:3]])\n"
   ]
  },
  {
   "cell_type": "code",
   "execution_count": 7,
   "metadata": {
    "collapsed": false
   },
   "outputs": [
    {
     "data": {
      "text/html": [
       "<div>\n",
       "<table border=\"1\" class=\"dataframe\">\n",
       "  <thead>\n",
       "    <tr style=\"text-align: right;\">\n",
       "      <th></th>\n",
       "      <th>0</th>\n",
       "      <th>1</th>\n",
       "      <th>2</th>\n",
       "    </tr>\n",
       "  </thead>\n",
       "  <tbody>\n",
       "    <tr>\n",
       "      <th>DISTRICT</th>\n",
       "      <td>1</td>\n",
       "      <td>1</td>\n",
       "      <td>1</td>\n",
       "    </tr>\n",
       "    <tr>\n",
       "      <th>JURISDICTION NAME</th>\n",
       "      <td>1</td>\n",
       "      <td>2</td>\n",
       "      <td>3</td>\n",
       "    </tr>\n",
       "    <tr>\n",
       "      <th>District</th>\n",
       "      <td>1</td>\n",
       "      <td>2</td>\n",
       "      <td>3</td>\n",
       "    </tr>\n",
       "  </tbody>\n",
       "</table>\n",
       "</div>"
      ],
      "text/plain": [
       "                   0  1  2\n",
       "DISTRICT           1  1  1\n",
       "JURISDICTION NAME  1  2  3\n",
       "District           1  2  3"
      ]
     },
     "execution_count": 7,
     "metadata": {},
     "output_type": "execute_result"
    }
   ],
   "source": [
    "import re\n",
    "\n",
    "dsAttendEnroll['District'] = dsAttendEnroll['District'].map(lambda x: x[-2:]).astype(int)\n",
    "\n",
    "dsDistrict['JURISDICTION NAME'] = dsDistrict['JURISDICTION NAME'].map(lambda x : re.match( r'([A-Za-z]*\\s)([0-9]*([A-Za-z]*))', x).group(2)).astype(int)\n",
    "\n",
    "\n",
    "pd.DataFrame(data=[dsProgReports['DISTRICT'][:3], dsDistrict['JURISDICTION NAME'][:3], \n",
    "                   dsAttendEnroll['District'][:3]])\n",
    "\n"
   ]
  },
  {
   "cell_type": "code",
   "execution_count": 8,
   "metadata": {
    "collapsed": true
   },
   "outputs": [],
   "source": [
    "dsProgReports = dsProgReports.set_index('DBN')\n",
    "dsDistrict = dsDistrict.set_index('JURISDICTION NAME')\n",
    "dsClassSize = dsClassSize.set_index('SCHOOL CODE')\n",
    "dsAttendEnroll = dsAttendEnroll.set_index('District')\n",
    "dsSATs = dsSATs.set_index('DBN')"
   ]
  },
  {
   "cell_type": "code",
   "execution_count": 9,
   "metadata": {
    "collapsed": false
   },
   "outputs": [
    {
     "data": {
      "text/plain": [
       "DBN\n",
       "M292    391\n",
       "M448    394\n",
       "M450    418\n",
       "M458    385\n",
       "M509      s\n",
       "Name: Critical Reading Mean, dtype: object"
      ]
     },
     "execution_count": 9,
     "metadata": {},
     "output_type": "execute_result"
    }
   ],
   "source": [
    "dsSATs['Critical Reading Mean'].take(range(5))"
   ]
  },
  {
   "cell_type": "code",
   "execution_count": 10,
   "metadata": {
    "collapsed": false
   },
   "outputs": [
    {
     "data": {
      "text/plain": [
       "DBN\n",
       "M292    391\n",
       "M448    394\n",
       "M450    418\n",
       "M458    385\n",
       "M515    314\n",
       "Name: Critical Reading Mean, dtype: int64"
      ]
     },
     "execution_count": 10,
     "metadata": {},
     "output_type": "execute_result"
    }
   ],
   "source": [
    "mask = dsSATs['Number of Test Takers'].map(lambda x: x!='s')\n",
    "dsSATs = dsSATs[mask]\n",
    "dsSATs['Number of Test Takers'] = dsSATs['Number of Test Takers'].astype(int)\n",
    "dsSATs['Critical Reading Mean'] = dsSATs['Critical Reading Mean'].astype(int)\n",
    "dsSATs['Mathematics Mean'] = dsSATs['Mathematics Mean'].astype(int)\n",
    "dsSATs['Writing Mean'] = dsSATs['Writing Mean'].astype(int)\n",
    "dsSATs['Critical Reading Mean'].take(range(5))"
   ]
  },
  {
   "cell_type": "code",
   "execution_count": 11,
   "metadata": {
    "collapsed": false
   },
   "outputs": [
    {
     "data": {
      "text/plain": [
       "Index([u'BORO', u'CSD', u'SCHOOL NAME', u'GRADE ', u'PROGRAM TYPE',\n",
       "       u'CORE SUBJECT (MS CORE and 9-12 ONLY)',\n",
       "       u'CORE COURSE (MS CORE and 9-12 ONLY)', u'SERVICE CATEGORY(K-9* ONLY)',\n",
       "       u'NUMBER OF CLASSES', u'TOTAL REGISTER', u'AVERAGE CLASS SIZE',\n",
       "       u'SIZE OF SMALLEST CLASS', u'SIZE OF LARGEST CLASS', u'DATA SOURCE',\n",
       "       u'SCHOOLWIDE PUPIL-TEACHER RATIO'],\n",
       "      dtype='object')"
      ]
     },
     "execution_count": 11,
     "metadata": {},
     "output_type": "execute_result"
    }
   ],
   "source": [
    "dsClassSize.columns"
   ]
  },
  {
   "cell_type": "code",
   "execution_count": 12,
   "metadata": {
    "collapsed": false
   },
   "outputs": [
    {
     "data": {
      "text/plain": [
       "array([['M', 1, 'P.S. 015 ROBERTO CLEMENTE', '0K', 'GEN ED', '-', '-', '-',\n",
       "        1.0, 21.0, 21.0, 21.0, 21.0, 'ATS', nan],\n",
       "       ['M', 1, 'P.S. 015 ROBERTO CLEMENTE', '0K', 'CTT', '-', '-', '-',\n",
       "        1.0, 21.0, 21.0, 21.0, 21.0, 'ATS', nan],\n",
       "       ['M', 1, 'P.S. 015 ROBERTO CLEMENTE', nan, nan, nan, nan, nan, nan,\n",
       "        nan, nan, nan, nan, nan, 8.9]], dtype=object)"
      ]
     },
     "execution_count": 12,
     "metadata": {},
     "output_type": "execute_result"
    }
   ],
   "source": [
    "dsClassSize.take([0,1,10]).values"
   ]
  },
  {
   "cell_type": "code",
   "execution_count": 13,
   "metadata": {
    "collapsed": false
   },
   "outputs": [],
   "source": [
    "dsPupilTeacher = dsClassSize.filter(['SCHOOLWIDE PUPIL-TEACHER RATIO'])\n",
    "\n",
    "mask = dsPupilTeacher.apply(lambda x: x>0)\n",
    "\n",
    "dsPupilTeacher = dsPupilTeacher[mask]\n",
    "\n",
    "dsClassSize = dsClassSize.drop('SCHOOLWIDE PUPIL-TEACHER RATIO', axis=1)\n",
    "\n",
    "dsClassSize = dsClassSize.drop(['BORO','CSD','SCHOOL NAME','GRADE ','PROGRAM TYPE',\n",
    "                                'CORE SUBJECT (MS CORE and 9-12 ONLY)','CORE COURSE (MS CORE and 9-12 ONLY)',\n",
    "                                'SERVICE CATEGORY(K-9* ONLY)','DATA SOURCE'], axis=1)\n",
    "\n"
   ]
  },
  {
   "cell_type": "code",
   "execution_count": 14,
   "metadata": {
    "collapsed": false
   },
   "outputs": [
    {
     "data": {
      "text/plain": [
       "<pandas.core.groupby.DataFrameGroupBy object at 0x103c6abd0>"
      ]
     },
     "execution_count": 14,
     "metadata": {},
     "output_type": "execute_result"
    }
   ],
   "source": [
    "grouped = dsClassSize.groupby(level=0)\n",
    "\n",
    "grouped"
   ]
  },
  {
   "cell_type": "code",
   "execution_count": 15,
   "metadata": {
    "collapsed": false
   },
   "outputs": [],
   "source": [
    "dsClassSize = grouped.aggregate(np.max).join(grouped.aggregate(np.min), lsuffix=\".max\").join(grouped.aggregate(np.mean), lsuffix=\".min\", rsuffix=\".mean\").join(dsPupilTeacher)"
   ]
  },
  {
   "cell_type": "code",
   "execution_count": 16,
   "metadata": {
    "collapsed": false
   },
   "outputs": [
    {
     "data": {
      "text/plain": [
       "Index([u'NUMBER OF CLASSES.max', u'TOTAL REGISTER.max',\n",
       "       u'AVERAGE CLASS SIZE.max', u'SIZE OF SMALLEST CLASS.max',\n",
       "       u'SIZE OF LARGEST CLASS.max', u'NUMBER OF CLASSES.min',\n",
       "       u'TOTAL REGISTER.min', u'AVERAGE CLASS SIZE.min',\n",
       "       u'SIZE OF SMALLEST CLASS.min', u'SIZE OF LARGEST CLASS.min',\n",
       "       u'NUMBER OF CLASSES.mean', u'TOTAL REGISTER.mean',\n",
       "       u'AVERAGE CLASS SIZE.mean', u'SIZE OF SMALLEST CLASS.mean',\n",
       "       u'SIZE OF LARGEST CLASS.mean', u'SCHOOLWIDE PUPIL-TEACHER RATIO'],\n",
       "      dtype='object')"
      ]
     },
     "execution_count": 16,
     "metadata": {},
     "output_type": "execute_result"
    }
   ],
   "source": [
    "dsClassSize.columns"
   ]
  },
  {
   "cell_type": "code",
   "execution_count": 17,
   "metadata": {
    "collapsed": false
   },
   "outputs": [],
   "source": [
    "mask = dsProgReports['SCHOOL LEVEL*'].map(lambda x: x=='High School')\n",
    "dsProgReports = dsProgReports[mask]"
   ]
  },
  {
   "cell_type": "code",
   "execution_count": 18,
   "metadata": {
    "collapsed": true
   },
   "outputs": [],
   "source": [
    "final = dsSATs.join(dsClassSize).join(dsProgReports).merge(dsDistrict, left_on='DISTRICT', right_index=True).merge(dsAttendEnroll, left_on='DISTRICT', right_index=True)"
   ]
  },
  {
   "cell_type": "code",
   "execution_count": 19,
   "metadata": {
    "collapsed": false
   },
   "outputs": [
    {
     "data": {
      "text/plain": [
       "School Name                      object\n",
       "SCHOOL                           object\n",
       "PRINCIPAL                        object\n",
       "PROGRESS REPORT TYPE             object\n",
       "SCHOOL LEVEL*                    object\n",
       "2009-2010 OVERALL GRADE          object\n",
       "2009-2010 ENVIRONMENT GRADE      object\n",
       "2009-2010 PERFORMANCE GRADE      object\n",
       "2009-2010 PROGRESS GRADE         object\n",
       "2008-09 PROGRESS REPORT GRADE    object\n",
       "YTD % Attendance (Avg)           object\n",
       "dtype: object"
      ]
     },
     "execution_count": 19,
     "metadata": {},
     "output_type": "execute_result"
    }
   ],
   "source": [
    "final.dtypes[final.dtypes.map(lambda x: x=='object')]"
   ]
  },
  {
   "cell_type": "code",
   "execution_count": 20,
   "metadata": {
    "collapsed": true
   },
   "outputs": [],
   "source": [
    "final = final.drop(['School Name','SCHOOL','PRINCIPAL','SCHOOL LEVEL*','PROGRESS REPORT TYPE'],axis=1)"
   ]
  },
  {
   "cell_type": "code",
   "execution_count": 21,
   "metadata": {
    "collapsed": true
   },
   "outputs": [],
   "source": [
    "final['YTD % Attendance (Avg)'] = final['YTD % Attendance (Avg)'].map(lambda x: x.replace(\"%\",\"\")).astype(float)"
   ]
  },
  {
   "cell_type": "code",
   "execution_count": null,
   "metadata": {
    "collapsed": false
   },
   "outputs": [
    {
     "data": {
      "text/plain": [
       "2009-2010 OVERALL GRADE          object\n",
       "2009-2010 ENVIRONMENT GRADE      object\n",
       "2009-2010 PERFORMANCE GRADE      object\n",
       "2009-2010 PROGRESS GRADE         object\n",
       "2008-09 PROGRESS REPORT GRADE    object\n",
       "dtype: object"
      ]
     },
     "execution_count": 22,
     "metadata": {},
     "output_type": "execute_result"
    }
   ],
   "source": [
    "final.dtypes[final.dtypes.map(lambda x: x=='object')]\n"
   ]
  },
  {
   "cell_type": "code",
   "execution_count": null,
   "metadata": {
    "collapsed": false
   },
   "outputs": [],
   "source": [
    "gradeCols = ['2009-2010 OVERALL GRADE','2009-2010 ENVIRONMENT GRADE',\n",
    "             '2009-2010 PERFORMANCE GRADE','2009-2010 PROGRESS GRADE','2008-09 PROGRESS REPORT GRADE']\n",
    "\n",
    "grades = np.unique(final[gradeCols].values)  # op is array([nan, 'A', 'B', 'C', 'D', 'F'], dtype=object)\n",
    "\n",
    "for c in gradeCols:\n",
    "    for g in grades:\n",
    "        final = final.join(pd.Series(data=final[c].map(lambda x: 1 if x is g else 0), name=c + \"_is_\" + str(g))) \n",
    "        \n",
    "final = final.drop(gradeCols, axis=1)\n"
   ]
  },
  {
   "cell_type": "code",
   "execution_count": null,
   "metadata": {
    "collapsed": false
   },
   "outputs": [],
   "source": [
    "from sklearn.ensemble import RandomForestRegressor\n",
    "\n",
    "target = final.filter(['Critical Reading Mean'])\n",
    "#We drop all three dependent variables because we don't want them used when trying to make a prediction.\n",
    "train = final.drop(['Critical Reading Mean','Writing Mean','Mathematics Mean'],axis=1)\n",
    "model = RandomForestRegressor(n_estimators=100, n_jobs=-1, compute_importances = True)\n",
    "model.fit(train, target)\n",
    "\n",
    "predictions = np.array(model.predict(train))\n",
    "\n",
    "predictions"
   ]
  },
  {
   "cell_type": "code",
   "execution_count": null,
   "metadata": {
    "collapsed": true
   },
   "outputs": [],
   "source": []
  }
 ],
 "metadata": {
  "kernelspec": {
   "display_name": "Python 2",
   "language": "python",
   "name": "python2"
  },
  "language_info": {
   "codemirror_mode": {
    "name": "ipython",
    "version": 2
   },
   "file_extension": ".py",
   "mimetype": "text/x-python",
   "name": "python",
   "nbconvert_exporter": "python",
   "pygments_lexer": "ipython2",
   "version": "2.7.11"
  }
 },
 "nbformat": 4,
 "nbformat_minor": 0
}
