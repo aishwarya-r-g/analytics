{
 "cells": [
  {
   "cell_type": "code",
   "execution_count": 2,
   "metadata": {
    "collapsed": true
   },
   "outputs": [],
   "source": [
    "import numpy as np\n",
    "\n",
    "import pandas as pd\n",
    "\n",
    "from pandas import Series, DataFrame\n",
    "\n",
    "from numpy.random import randn"
   ]
  },
  {
   "cell_type": "code",
   "execution_count": 3,
   "metadata": {
    "collapsed": false
   },
   "outputs": [
    {
     "data": {
      "text/plain": [
       "a    1\n",
       "b    2\n",
       "c    3\n",
       "d    4\n",
       "dtype: int64"
      ]
     },
     "execution_count": 3,
     "metadata": {},
     "output_type": "execute_result"
    }
   ],
   "source": [
    "ser1 = Series([1,2,3,4], index = ['a','b','c','d'])\n",
    "\n",
    "ser1"
   ]
  },
  {
   "cell_type": "code",
   "execution_count": 4,
   "metadata": {
    "collapsed": false
   },
   "outputs": [
    {
     "data": {
      "text/plain": [
       "a     1\n",
       "b     2\n",
       "c     3\n",
       "d     4\n",
       "e   NaN\n",
       "dtype: float64"
      ]
     },
     "execution_count": 4,
     "metadata": {},
     "output_type": "execute_result"
    }
   ],
   "source": [
    "ser2 = ser1.reindex(['a','b','c','d','e'])\n",
    "\n",
    "ser2"
   ]
  },
  {
   "cell_type": "code",
   "execution_count": 5,
   "metadata": {
    "collapsed": false
   },
   "outputs": [
    {
     "data": {
      "text/plain": [
       "a    1\n",
       "b    2\n",
       "c    3\n",
       "d    4\n",
       "dtype: int64"
      ]
     },
     "execution_count": 5,
     "metadata": {},
     "output_type": "execute_result"
    }
   ],
   "source": [
    "ser1"
   ]
  },
  {
   "cell_type": "code",
   "execution_count": 7,
   "metadata": {
    "collapsed": false
   },
   "outputs": [
    {
     "data": {
      "text/plain": [
       "a     1\n",
       "b     2\n",
       "c     3\n",
       "d     4\n",
       "e   NaN\n",
       "f     0\n",
       "dtype: float64"
      ]
     },
     "execution_count": 7,
     "metadata": {},
     "output_type": "execute_result"
    }
   ],
   "source": [
    "ser2 = ser2.reindex(['a','b','c','d','e','f'], fill_value=0)\n",
    "\n",
    "ser2"
   ]
  },
  {
   "cell_type": "code",
   "execution_count": 18,
   "metadata": {
    "collapsed": false
   },
   "outputs": [
    {
     "data": {
      "text/plain": [
       "1      us\n",
       "5      uk\n",
       "10    fra\n",
       "dtype: object"
      ]
     },
     "execution_count": 18,
     "metadata": {},
     "output_type": "execute_result"
    }
   ],
   "source": [
    "ser3 = Series(['us','uk', 'fra'], index=[1,5,10])\n",
    "\n",
    "ser3"
   ]
  },
  {
   "cell_type": "code",
   "execution_count": 19,
   "metadata": {
    "collapsed": false
   },
   "outputs": [
    {
     "data": {
      "text/plain": [
       "[0, 1, 2, 3, 4, 5, 6, 7, 8, 9, 10, 11, 12, 13, 14]"
      ]
     },
     "execution_count": 19,
     "metadata": {},
     "output_type": "execute_result"
    }
   ],
   "source": [
    "ranger = range(15)\n",
    "\n",
    "ranger"
   ]
  },
  {
   "cell_type": "code",
   "execution_count": 20,
   "metadata": {
    "collapsed": false
   },
   "outputs": [
    {
     "data": {
      "text/plain": [
       "0     NaN\n",
       "1      us\n",
       "2      us\n",
       "3      us\n",
       "4      us\n",
       "5      uk\n",
       "6      uk\n",
       "7      uk\n",
       "8      uk\n",
       "9      uk\n",
       "10    fra\n",
       "11    fra\n",
       "12    fra\n",
       "13    fra\n",
       "14    fra\n",
       "dtype: object"
      ]
     },
     "execution_count": 20,
     "metadata": {},
     "output_type": "execute_result"
    }
   ],
   "source": [
    "ser3.reindex(ranger,method='ffill')"
   ]
  },
  {
   "cell_type": "markdown",
   "metadata": {},
   "source": [
    "This ^ works only if the original indices are monotonically increasing or decreaisng"
   ]
  },
  {
   "cell_type": "code",
   "execution_count": 21,
   "metadata": {
    "collapsed": false
   },
   "outputs": [
    {
     "data": {
      "text/html": [
       "<div>\n",
       "<table border=\"1\" class=\"dataframe\">\n",
       "  <thead>\n",
       "    <tr style=\"text-align: right;\">\n",
       "      <th></th>\n",
       "      <th>c1</th>\n",
       "      <th>c2</th>\n",
       "      <th>c3</th>\n",
       "      <th>c4</th>\n",
       "      <th>c5</th>\n",
       "    </tr>\n",
       "  </thead>\n",
       "  <tbody>\n",
       "    <tr>\n",
       "      <th>a</th>\n",
       "      <td>-0.254975</td>\n",
       "      <td>-0.201604</td>\n",
       "      <td>-0.981707</td>\n",
       "      <td>-0.628055</td>\n",
       "      <td>0.593745</td>\n",
       "    </tr>\n",
       "    <tr>\n",
       "      <th>b</th>\n",
       "      <td>-0.642019</td>\n",
       "      <td>-0.596982</td>\n",
       "      <td>0.287271</td>\n",
       "      <td>0.893955</td>\n",
       "      <td>0.431304</td>\n",
       "    </tr>\n",
       "    <tr>\n",
       "      <th>d</th>\n",
       "      <td>0.164384</td>\n",
       "      <td>-1.691480</td>\n",
       "      <td>-0.490618</td>\n",
       "      <td>1.239124</td>\n",
       "      <td>0.100623</td>\n",
       "    </tr>\n",
       "    <tr>\n",
       "      <th>e</th>\n",
       "      <td>0.706192</td>\n",
       "      <td>-0.580542</td>\n",
       "      <td>0.107600</td>\n",
       "      <td>1.448372</td>\n",
       "      <td>0.920471</td>\n",
       "    </tr>\n",
       "    <tr>\n",
       "      <th>f</th>\n",
       "      <td>1.745233</td>\n",
       "      <td>0.672879</td>\n",
       "      <td>0.250893</td>\n",
       "      <td>0.575128</td>\n",
       "      <td>1.601374</td>\n",
       "    </tr>\n",
       "  </tbody>\n",
       "</table>\n",
       "</div>"
      ],
      "text/plain": [
       "         c1        c2        c3        c4        c5\n",
       "a -0.254975 -0.201604 -0.981707 -0.628055  0.593745\n",
       "b -0.642019 -0.596982  0.287271  0.893955  0.431304\n",
       "d  0.164384 -1.691480 -0.490618  1.239124  0.100623\n",
       "e  0.706192 -0.580542  0.107600  1.448372  0.920471\n",
       "f  1.745233  0.672879  0.250893  0.575128  1.601374"
      ]
     },
     "execution_count": 21,
     "metadata": {},
     "output_type": "execute_result"
    }
   ],
   "source": [
    "dframe = DataFrame(randn(25).reshape((5,5)), index = ['a','b','d','e','f'], columns=['c1','c2','c3','c4','c5'])\n",
    "\n",
    "dframe"
   ]
  },
  {
   "cell_type": "code",
   "execution_count": 23,
   "metadata": {
    "collapsed": false
   },
   "outputs": [
    {
     "data": {
      "text/html": [
       "<div>\n",
       "<table border=\"1\" class=\"dataframe\">\n",
       "  <thead>\n",
       "    <tr style=\"text-align: right;\">\n",
       "      <th></th>\n",
       "      <th>c1</th>\n",
       "      <th>c2</th>\n",
       "      <th>c3</th>\n",
       "      <th>c4</th>\n",
       "      <th>c5</th>\n",
       "    </tr>\n",
       "  </thead>\n",
       "  <tbody>\n",
       "    <tr>\n",
       "      <th>a</th>\n",
       "      <td>-0.254975</td>\n",
       "      <td>-0.201604</td>\n",
       "      <td>-0.981707</td>\n",
       "      <td>-0.628055</td>\n",
       "      <td>0.593745</td>\n",
       "    </tr>\n",
       "    <tr>\n",
       "      <th>b</th>\n",
       "      <td>-0.642019</td>\n",
       "      <td>-0.596982</td>\n",
       "      <td>0.287271</td>\n",
       "      <td>0.893955</td>\n",
       "      <td>0.431304</td>\n",
       "    </tr>\n",
       "    <tr>\n",
       "      <th>c</th>\n",
       "      <td>NaN</td>\n",
       "      <td>NaN</td>\n",
       "      <td>NaN</td>\n",
       "      <td>NaN</td>\n",
       "      <td>NaN</td>\n",
       "    </tr>\n",
       "    <tr>\n",
       "      <th>d</th>\n",
       "      <td>0.164384</td>\n",
       "      <td>-1.691480</td>\n",
       "      <td>-0.490618</td>\n",
       "      <td>1.239124</td>\n",
       "      <td>0.100623</td>\n",
       "    </tr>\n",
       "    <tr>\n",
       "      <th>e</th>\n",
       "      <td>0.706192</td>\n",
       "      <td>-0.580542</td>\n",
       "      <td>0.107600</td>\n",
       "      <td>1.448372</td>\n",
       "      <td>0.920471</td>\n",
       "    </tr>\n",
       "    <tr>\n",
       "      <th>f</th>\n",
       "      <td>1.745233</td>\n",
       "      <td>0.672879</td>\n",
       "      <td>0.250893</td>\n",
       "      <td>0.575128</td>\n",
       "      <td>1.601374</td>\n",
       "    </tr>\n",
       "  </tbody>\n",
       "</table>\n",
       "</div>"
      ],
      "text/plain": [
       "         c1        c2        c3        c4        c5\n",
       "a -0.254975 -0.201604 -0.981707 -0.628055  0.593745\n",
       "b -0.642019 -0.596982  0.287271  0.893955  0.431304\n",
       "c       NaN       NaN       NaN       NaN       NaN\n",
       "d  0.164384 -1.691480 -0.490618  1.239124  0.100623\n",
       "e  0.706192 -0.580542  0.107600  1.448372  0.920471\n",
       "f  1.745233  0.672879  0.250893  0.575128  1.601374"
      ]
     },
     "execution_count": 23,
     "metadata": {},
     "output_type": "execute_result"
    }
   ],
   "source": [
    "dframe2 = dframe.reindex(['a','b','c','d','e','f'])\n",
    "\n",
    "dframe2"
   ]
  },
  {
   "cell_type": "code",
   "execution_count": 25,
   "metadata": {
    "collapsed": false
   },
   "outputs": [
    {
     "data": {
      "text/html": [
       "<div>\n",
       "<table border=\"1\" class=\"dataframe\">\n",
       "  <thead>\n",
       "    <tr style=\"text-align: right;\">\n",
       "      <th></th>\n",
       "      <th>c1</th>\n",
       "      <th>c2</th>\n",
       "      <th>c3</th>\n",
       "      <th>c4</th>\n",
       "      <th>c5</th>\n",
       "      <th>c6</th>\n",
       "    </tr>\n",
       "  </thead>\n",
       "  <tbody>\n",
       "    <tr>\n",
       "      <th>a</th>\n",
       "      <td>-0.254975</td>\n",
       "      <td>-0.201604</td>\n",
       "      <td>-0.981707</td>\n",
       "      <td>-0.628055</td>\n",
       "      <td>0.593745</td>\n",
       "      <td>NaN</td>\n",
       "    </tr>\n",
       "    <tr>\n",
       "      <th>b</th>\n",
       "      <td>-0.642019</td>\n",
       "      <td>-0.596982</td>\n",
       "      <td>0.287271</td>\n",
       "      <td>0.893955</td>\n",
       "      <td>0.431304</td>\n",
       "      <td>NaN</td>\n",
       "    </tr>\n",
       "    <tr>\n",
       "      <th>c</th>\n",
       "      <td>NaN</td>\n",
       "      <td>NaN</td>\n",
       "      <td>NaN</td>\n",
       "      <td>NaN</td>\n",
       "      <td>NaN</td>\n",
       "      <td>NaN</td>\n",
       "    </tr>\n",
       "    <tr>\n",
       "      <th>d</th>\n",
       "      <td>0.164384</td>\n",
       "      <td>-1.691480</td>\n",
       "      <td>-0.490618</td>\n",
       "      <td>1.239124</td>\n",
       "      <td>0.100623</td>\n",
       "      <td>NaN</td>\n",
       "    </tr>\n",
       "    <tr>\n",
       "      <th>e</th>\n",
       "      <td>0.706192</td>\n",
       "      <td>-0.580542</td>\n",
       "      <td>0.107600</td>\n",
       "      <td>1.448372</td>\n",
       "      <td>0.920471</td>\n",
       "      <td>NaN</td>\n",
       "    </tr>\n",
       "    <tr>\n",
       "      <th>f</th>\n",
       "      <td>1.745233</td>\n",
       "      <td>0.672879</td>\n",
       "      <td>0.250893</td>\n",
       "      <td>0.575128</td>\n",
       "      <td>1.601374</td>\n",
       "      <td>NaN</td>\n",
       "    </tr>\n",
       "  </tbody>\n",
       "</table>\n",
       "</div>"
      ],
      "text/plain": [
       "         c1        c2        c3        c4        c5  c6\n",
       "a -0.254975 -0.201604 -0.981707 -0.628055  0.593745 NaN\n",
       "b -0.642019 -0.596982  0.287271  0.893955  0.431304 NaN\n",
       "c       NaN       NaN       NaN       NaN       NaN NaN\n",
       "d  0.164384 -1.691480 -0.490618  1.239124  0.100623 NaN\n",
       "e  0.706192 -0.580542  0.107600  1.448372  0.920471 NaN\n",
       "f  1.745233  0.672879  0.250893  0.575128  1.601374 NaN"
      ]
     },
     "execution_count": 25,
     "metadata": {},
     "output_type": "execute_result"
    }
   ],
   "source": [
    "new_col = ['c1','c2','c3','c4','c5','c6']\n",
    "\n",
    "dframe2.reindex(columns=new_col)"
   ]
  },
  {
   "cell_type": "code",
   "execution_count": 26,
   "metadata": {
    "collapsed": false
   },
   "outputs": [
    {
     "data": {
      "text/html": [
       "<div>\n",
       "<table border=\"1\" class=\"dataframe\">\n",
       "  <thead>\n",
       "    <tr style=\"text-align: right;\">\n",
       "      <th></th>\n",
       "      <th>c1</th>\n",
       "      <th>c2</th>\n",
       "      <th>c3</th>\n",
       "      <th>c4</th>\n",
       "      <th>c5</th>\n",
       "    </tr>\n",
       "  </thead>\n",
       "  <tbody>\n",
       "    <tr>\n",
       "      <th>a</th>\n",
       "      <td>-0.254975</td>\n",
       "      <td>-0.201604</td>\n",
       "      <td>-0.981707</td>\n",
       "      <td>-0.628055</td>\n",
       "      <td>0.593745</td>\n",
       "    </tr>\n",
       "    <tr>\n",
       "      <th>b</th>\n",
       "      <td>-0.642019</td>\n",
       "      <td>-0.596982</td>\n",
       "      <td>0.287271</td>\n",
       "      <td>0.893955</td>\n",
       "      <td>0.431304</td>\n",
       "    </tr>\n",
       "    <tr>\n",
       "      <th>d</th>\n",
       "      <td>0.164384</td>\n",
       "      <td>-1.691480</td>\n",
       "      <td>-0.490618</td>\n",
       "      <td>1.239124</td>\n",
       "      <td>0.100623</td>\n",
       "    </tr>\n",
       "    <tr>\n",
       "      <th>e</th>\n",
       "      <td>0.706192</td>\n",
       "      <td>-0.580542</td>\n",
       "      <td>0.107600</td>\n",
       "      <td>1.448372</td>\n",
       "      <td>0.920471</td>\n",
       "    </tr>\n",
       "    <tr>\n",
       "      <th>f</th>\n",
       "      <td>1.745233</td>\n",
       "      <td>0.672879</td>\n",
       "      <td>0.250893</td>\n",
       "      <td>0.575128</td>\n",
       "      <td>1.601374</td>\n",
       "    </tr>\n",
       "  </tbody>\n",
       "</table>\n",
       "</div>"
      ],
      "text/plain": [
       "         c1        c2        c3        c4        c5\n",
       "a -0.254975 -0.201604 -0.981707 -0.628055  0.593745\n",
       "b -0.642019 -0.596982  0.287271  0.893955  0.431304\n",
       "d  0.164384 -1.691480 -0.490618  1.239124  0.100623\n",
       "e  0.706192 -0.580542  0.107600  1.448372  0.920471\n",
       "f  1.745233  0.672879  0.250893  0.575128  1.601374"
      ]
     },
     "execution_count": 26,
     "metadata": {},
     "output_type": "execute_result"
    }
   ],
   "source": [
    "dframe"
   ]
  },
  {
   "cell_type": "code",
   "execution_count": 35,
   "metadata": {
    "collapsed": false
   },
   "outputs": [
    {
     "ename": "AttributeError",
     "evalue": "'_IXIndexer' object has no attribute 'ix'",
     "output_type": "error",
     "traceback": [
      "\u001b[0;31m---------------------------------------------------------------------------\u001b[0m",
      "\u001b[0;31mAttributeError\u001b[0m                            Traceback (most recent call last)",
      "\u001b[0;32m<ipython-input-35-a6d8bcadc6df>\u001b[0m in \u001b[0;36m<module>\u001b[0;34m()\u001b[0m\n\u001b[0;32m----> 1\u001b[0;31m \u001b[0mdframe\u001b[0m\u001b[0;34m.\u001b[0m\u001b[0mix\u001b[0m\u001b[0;34m[\u001b[0m\u001b[0;34m[\u001b[0m\u001b[0;34m'a'\u001b[0m\u001b[0;34m,\u001b[0m\u001b[0;34m'b'\u001b[0m\u001b[0;34m,\u001b[0m\u001b[0;34m'c'\u001b[0m\u001b[0;34m,\u001b[0m\u001b[0;34m'd'\u001b[0m\u001b[0;34m,\u001b[0m\u001b[0;34m'e'\u001b[0m\u001b[0;34m,\u001b[0m\u001b[0;34m'f'\u001b[0m\u001b[0;34m,\u001b[0m\u001b[0;34m'g'\u001b[0m\u001b[0;34m]\u001b[0m\u001b[0;34m,\u001b[0m \u001b[0;34m[\u001b[0m\u001b[0;34m'c1'\u001b[0m\u001b[0;34m,\u001b[0m\u001b[0;34m'c2'\u001b[0m\u001b[0;34m,\u001b[0m\u001b[0;34m'c3'\u001b[0m\u001b[0;34m,\u001b[0m\u001b[0;34m'c4'\u001b[0m\u001b[0;34m,\u001b[0m\u001b[0;34m'c5'\u001b[0m\u001b[0;34m,\u001b[0m\u001b[0;34m'c6'\u001b[0m\u001b[0;34m,\u001b[0m\u001b[0;34m'c7'\u001b[0m\u001b[0;34m]\u001b[0m\u001b[0;34m]\u001b[0m\u001b[0;34m\u001b[0m\u001b[0m\n\u001b[0m\u001b[1;32m      2\u001b[0m \u001b[0;34m\u001b[0m\u001b[0m\n",
      "\u001b[0;31mAttributeError\u001b[0m: '_IXIndexer' object has no attribute 'ix'"
     ]
    }
   ],
   "source": [
    "dframe.ix[['a','b','c','d','e','f','g'], ['c1','c2','c3','c4','c5','c6','c7']]\n",
    "\n"
   ]
  },
  {
   "cell_type": "markdown",
   "metadata": {},
   "source": [
    "^ works for dframe2 but not dframe ????"
   ]
  }
 ],
 "metadata": {
  "kernelspec": {
   "display_name": "Python 2",
   "language": "python",
   "name": "python2"
  },
  "language_info": {
   "codemirror_mode": {
    "name": "ipython",
    "version": 2
   },
   "file_extension": ".py",
   "mimetype": "text/x-python",
   "name": "python",
   "nbconvert_exporter": "python",
   "pygments_lexer": "ipython2",
   "version": "2.7.11"
  }
 },
 "nbformat": 4,
 "nbformat_minor": 0
}
