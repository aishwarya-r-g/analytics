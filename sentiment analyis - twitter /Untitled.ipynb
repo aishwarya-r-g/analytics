{
 "cells": [
  {
   "cell_type": "code",
   "execution_count": 1,
   "metadata": {
    "collapsed": true
   },
   "outputs": [],
   "source": [
    "api_key = \"OCXWtMXtYXmCmKb5J1Lk8VJFK\"\n",
    "api_secret = \"dH3HLT8gwU3f2ntZAAZJCKKdLaBFqi3k9mx304IxigFyxZGUwm\"\n",
    "access_token_key = \"332676261-bp0bshHiyEaO7CvKvwAUC3gSQ6Omr5u1W2OkwQ8E\"\n",
    "access_token_secret = \"jXp2S2MYYveMArZdis8YbXJamIDO0gRxBVIm7vScu7Qfw\""
   ]
  },
  {
   "cell_type": "code",
   "execution_count": null,
   "metadata": {
    "collapsed": true
   },
   "outputs": [],
   "source": []
  }
 ],
 "metadata": {
  "kernelspec": {
   "display_name": "Python 2",
   "language": "python",
   "name": "python2"
  },
  "language_info": {
   "codemirror_mode": {
    "name": "ipython",
    "version": 2
   },
   "file_extension": ".py",
   "mimetype": "text/x-python",
   "name": "python",
   "nbconvert_exporter": "python",
   "pygments_lexer": "ipython2",
   "version": "2.7.11"
  }
 },
 "nbformat": 4,
 "nbformat_minor": 0
}
